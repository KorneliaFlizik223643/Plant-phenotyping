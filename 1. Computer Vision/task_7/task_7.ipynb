{
 "cells": [
  {
   "cell_type": "code",
   "execution_count": 1,
   "metadata": {},
   "outputs": [],
   "source": [
    "import cv2\n",
    "import numpy as np\n",
    "import matplotlib.pyplot as plt\n",
    "from patchify import patchify, unpatchify\n",
    "from tensorflow.keras.models import load_model\n",
    "import pandas as pd\n",
    "import glob"
   ]
  },
  {
   "cell_type": "code",
   "execution_count": 2,
   "metadata": {},
   "outputs": [],
   "source": [
    "patch_size=256\n",
    "from custom_functions import predict_patches\n",
    "from custom_metrics import f1,iou"
   ]
  },
  {
   "cell_type": "code",
   "execution_count": 3,
   "metadata": {},
   "outputs": [],
   "source": [
    "# Define custom_objects dictionary with your metric functions\n",
    "custom_objects = {'f1': f1, 'iou': iou}\n",
    "\n",
    "# Load the model using the custom_objects parameter\n",
    "root_model = load_model('root_model.h5', custom_objects=custom_objects)"
   ]
  },
  {
   "cell_type": "markdown",
   "metadata": {},
   "source": [
    "## Instance segmentation from Task 5"
   ]
  },
  {
   "cell_type": "code",
   "execution_count": 4,
   "metadata": {},
   "outputs": [],
   "source": [
    "def instance_segmentation(image_path, patch_size=patch_size, margin=30):\n",
    "    image, preds = predict_patches(image_path, root_model, patch_size)\n",
    "    predictions = unpatchify(preds, (image.shape[0], image.shape[1]))\n",
    "    _, thresholded_image = cv2.threshold(predictions, 0.7, 1, cv2.THRESH_BINARY)\n",
    "    thresholded_image = thresholded_image.astype('uint8')\n",
    "\n",
    "    # Extract connected components using connectedComponentsWithStats\n",
    "    retval, labels, stats, centroids = cv2.connectedComponentsWithStats(thresholded_image, 8, cv2.CV_32S)\n",
    "    stats_indices = sorted(range(1, retval), key=lambda x: cv2.boundingRect((labels == x).astype(np.uint8))[0])\n",
    "\n",
    "\n",
    "    instances = []\n",
    "    nr_instances=0\n",
    "    # Filtering elements based on criteria\n",
    "    for label_index in stats_indices:\n",
    "        stat = stats[label_index]\n",
    "        x, y, w, h, a = stat\n",
    "        if h > 400:\n",
    "            if nr_instances < 5:\n",
    "                # Cropping the region of interest (ROI) with a margin\n",
    "                roi = thresholded_image[y-margin:y+h+margin, x-margin:x+w+margin]\n",
    "                nr_instances+=1\n",
    "                instances.append(roi)\n",
    "                \n",
    "    print(nr_instances)\n",
    "    return instances\n"
   ]
  },
  {
   "cell_type": "markdown",
   "metadata": {},
   "source": [
    "## Task 7"
   ]
  },
  {
   "cell_type": "code",
   "execution_count": 5,
   "metadata": {},
   "outputs": [],
   "source": [
    "from skan import Skeleton, summarize\n",
    "from skimage.morphology import skeletonize\n",
    "import networkx as nx"
   ]
  },
  {
   "cell_type": "code",
   "execution_count": 6,
   "metadata": {},
   "outputs": [
    {
     "name": "stdout",
     "output_type": "stream",
     "text": [
      "5\n",
      "5\n"
     ]
    }
   ],
   "source": [
    "# Initialize an empty list to store measurement results\n",
    "results=[]\n",
    "\n",
    "# Iterate through all image paths in sorted order\n",
    "for image_path in sorted(glob.glob('Measurement_dataset/measurement_image*')):\n",
    "    # Extract filename from the image path\n",
    "    filename=image_path[20:-4]\n",
    "    # Perform instance segmentation on the current image\n",
    "    plants=instance_segmentation(image_path)\n",
    "    # Iterate through each segmented region of interest (ROI) in the image\n",
    "    for i, roi in enumerate(plants):\n",
    "        # Convert non-zero values in the ROI to 1 (binary representation)\n",
    "        roi[roi!=0]=1\n",
    "        roi = roi.astype(np.uint8)\n",
    "        \n",
    "        # Generate the skeleton of the ROI using the skeletonize function\n",
    "        skeleton = skeletonize(roi)\n",
    "        # Summarize the skeleton and create a networkx graph from the summarized data\n",
    "        graph=summarize(Skeleton(skeleton))\n",
    "        G = nx.from_pandas_edgelist(graph, source='node-id-src', target='node-id-dst', edge_attr='branch-distance')\n",
    "        \n",
    "        # Extract skeleton-id from the last row of the summarized data\n",
    "        skeleton_id= graph.iloc[-1]['skeleton-id']\n",
    "        # Filter the graph data for the current skeleton-id\n",
    "        filtered_graph = graph[(graph['skeleton-id'] == skeleton_id)]\n",
    "        \n",
    "        # Find the start and end points of the skeleton\n",
    "        start_point = filtered_graph['node-id-src'].min()\n",
    "        end_point = filtered_graph['node-id-dst'].max()\n",
    "        \n",
    "        # Calculate the length of the primary root using Dijkstra's algorithm\n",
    "        primary_root_len = nx.dijkstra_path_length(G, start_point, end_point, weight='branch-distance')\n",
    "        \n",
    "        # Calculate the total length of lateral roots\n",
    "        total_lateral_length = graph['branch-distance'].sum()-primary_root_len\n",
    "        \n",
    "        # Create a DataFrame with the measurement results for the current plant\n",
    "        measurements = pd.DataFrame({'Plant ID ':[f'{filename}_plant_{i+1}'],\n",
    "                                     'primary_root_len': [primary_root_len],\n",
    "                                     'total_lateral_root': [total_lateral_length]})\n",
    "        # Append the measurements DataFrame to the results list\n",
    "        results.append(measurements)\n",
    "\n",
    "# Concatenate all DataFrames in the results list into a single DataFrame\n",
    "results_df = pd.concat(results, ignore_index=True)"
   ]
  },
  {
   "cell_type": "code",
   "execution_count": 7,
   "metadata": {},
   "outputs": [
    {
     "data": {
      "text/html": [
       "<div>\n",
       "<style scoped>\n",
       "    .dataframe tbody tr th:only-of-type {\n",
       "        vertical-align: middle;\n",
       "    }\n",
       "\n",
       "    .dataframe tbody tr th {\n",
       "        vertical-align: top;\n",
       "    }\n",
       "\n",
       "    .dataframe thead th {\n",
       "        text-align: right;\n",
       "    }\n",
       "</style>\n",
       "<table border=\"1\" class=\"dataframe\">\n",
       "  <thead>\n",
       "    <tr style=\"text-align: right;\">\n",
       "      <th></th>\n",
       "      <th>Plant ID</th>\n",
       "      <th>primary_root_len</th>\n",
       "      <th>total_lateral_root</th>\n",
       "    </tr>\n",
       "  </thead>\n",
       "  <tbody>\n",
       "    <tr>\n",
       "      <th>0</th>\n",
       "      <td>measurement_image_1_plant_1</td>\n",
       "      <td>511.208153</td>\n",
       "      <td>0.000000</td>\n",
       "    </tr>\n",
       "    <tr>\n",
       "      <th>1</th>\n",
       "      <td>measurement_image_1_plant_2</td>\n",
       "      <td>1017.546248</td>\n",
       "      <td>326.859956</td>\n",
       "    </tr>\n",
       "    <tr>\n",
       "      <th>2</th>\n",
       "      <td>measurement_image_1_plant_3</td>\n",
       "      <td>876.563492</td>\n",
       "      <td>42.284271</td>\n",
       "    </tr>\n",
       "    <tr>\n",
       "      <th>3</th>\n",
       "      <td>measurement_image_1_plant_4</td>\n",
       "      <td>992.717821</td>\n",
       "      <td>279.190909</td>\n",
       "    </tr>\n",
       "    <tr>\n",
       "      <th>4</th>\n",
       "      <td>measurement_image_1_plant_5</td>\n",
       "      <td>875.931024</td>\n",
       "      <td>45.526912</td>\n",
       "    </tr>\n",
       "    <tr>\n",
       "      <th>5</th>\n",
       "      <td>measurement_image_2_plant_1</td>\n",
       "      <td>1075.960461</td>\n",
       "      <td>1020.070201</td>\n",
       "    </tr>\n",
       "    <tr>\n",
       "      <th>6</th>\n",
       "      <td>measurement_image_2_plant_2</td>\n",
       "      <td>1085.788889</td>\n",
       "      <td>156.308658</td>\n",
       "    </tr>\n",
       "    <tr>\n",
       "      <th>7</th>\n",
       "      <td>measurement_image_2_plant_3</td>\n",
       "      <td>1031.676190</td>\n",
       "      <td>700.636652</td>\n",
       "    </tr>\n",
       "    <tr>\n",
       "      <th>8</th>\n",
       "      <td>measurement_image_2_plant_4</td>\n",
       "      <td>932.764502</td>\n",
       "      <td>92.497475</td>\n",
       "    </tr>\n",
       "    <tr>\n",
       "      <th>9</th>\n",
       "      <td>measurement_image_2_plant_5</td>\n",
       "      <td>1003.333044</td>\n",
       "      <td>439.244733</td>\n",
       "    </tr>\n",
       "  </tbody>\n",
       "</table>\n",
       "</div>"
      ],
      "text/plain": [
       "                     Plant ID   primary_root_len  total_lateral_root\n",
       "0  measurement_image_1_plant_1        511.208153            0.000000\n",
       "1  measurement_image_1_plant_2       1017.546248          326.859956\n",
       "2  measurement_image_1_plant_3        876.563492           42.284271\n",
       "3  measurement_image_1_plant_4        992.717821          279.190909\n",
       "4  measurement_image_1_plant_5        875.931024           45.526912\n",
       "5  measurement_image_2_plant_1       1075.960461         1020.070201\n",
       "6  measurement_image_2_plant_2       1085.788889          156.308658\n",
       "7  measurement_image_2_plant_3       1031.676190          700.636652\n",
       "8  measurement_image_2_plant_4        932.764502           92.497475\n",
       "9  measurement_image_2_plant_5       1003.333044          439.244733"
      ]
     },
     "execution_count": 7,
     "metadata": {},
     "output_type": "execute_result"
    }
   ],
   "source": [
    "results_df"
   ]
  },
  {
   "cell_type": "code",
   "execution_count": 8,
   "metadata": {},
   "outputs": [],
   "source": [
    "measurements_df= pd.read_csv('Measurement_dataset\\measurements_task_7.csv', delimiter=';')"
   ]
  },
  {
   "cell_type": "code",
   "execution_count": 9,
   "metadata": {},
   "outputs": [
    {
     "data": {
      "text/html": [
       "<div>\n",
       "<style scoped>\n",
       "    .dataframe tbody tr th:only-of-type {\n",
       "        vertical-align: middle;\n",
       "    }\n",
       "\n",
       "    .dataframe tbody tr th {\n",
       "        vertical-align: top;\n",
       "    }\n",
       "\n",
       "    .dataframe thead th {\n",
       "        text-align: right;\n",
       "    }\n",
       "</style>\n",
       "<table border=\"1\" class=\"dataframe\">\n",
       "  <thead>\n",
       "    <tr style=\"text-align: right;\">\n",
       "      <th></th>\n",
       "      <th>Plant ID</th>\n",
       "      <th>primary_root_len</th>\n",
       "      <th>total_lateral_root</th>\n",
       "    </tr>\n",
       "  </thead>\n",
       "  <tbody>\n",
       "    <tr>\n",
       "      <th>0</th>\n",
       "      <td>measurement_image_1_plant_1</td>\n",
       "      <td>675,321</td>\n",
       "      <td>0</td>\n",
       "    </tr>\n",
       "    <tr>\n",
       "      <th>1</th>\n",
       "      <td>measurement_image_1_plant_2</td>\n",
       "      <td>1036,375</td>\n",
       "      <td>387,387</td>\n",
       "    </tr>\n",
       "    <tr>\n",
       "      <th>2</th>\n",
       "      <td>measurement_image_1_plant_3</td>\n",
       "      <td>875,321</td>\n",
       "      <td>39,284</td>\n",
       "    </tr>\n",
       "    <tr>\n",
       "      <th>3</th>\n",
       "      <td>measurement_image_1_plant_4</td>\n",
       "      <td>973,233</td>\n",
       "      <td>323,404</td>\n",
       "    </tr>\n",
       "    <tr>\n",
       "      <th>4</th>\n",
       "      <td>measurement_image_1_plant_5</td>\n",
       "      <td>874,931</td>\n",
       "      <td>43,527</td>\n",
       "    </tr>\n",
       "    <tr>\n",
       "      <th>5</th>\n",
       "      <td>measurement_image_2_plant_1</td>\n",
       "      <td>988,676</td>\n",
       "      <td>1008,09</td>\n",
       "    </tr>\n",
       "    <tr>\n",
       "      <th>6</th>\n",
       "      <td>measurement_image_2_plant_2</td>\n",
       "      <td>1103,688</td>\n",
       "      <td>137,48</td>\n",
       "    </tr>\n",
       "    <tr>\n",
       "      <th>7</th>\n",
       "      <td>measurement_image_2_plant_3</td>\n",
       "      <td>969,534</td>\n",
       "      <td>793,005</td>\n",
       "    </tr>\n",
       "    <tr>\n",
       "      <th>8</th>\n",
       "      <td>measurement_image_2_plant_4</td>\n",
       "      <td>946,25</td>\n",
       "      <td>86,569</td>\n",
       "    </tr>\n",
       "    <tr>\n",
       "      <th>9</th>\n",
       "      <td>measurement_image_2_plant_5</td>\n",
       "      <td>1004,09</td>\n",
       "      <td>431,145</td>\n",
       "    </tr>\n",
       "  </tbody>\n",
       "</table>\n",
       "</div>"
      ],
      "text/plain": [
       "                      Plant ID primary_root_len total_lateral_root\n",
       "0  measurement_image_1_plant_1          675,321                  0\n",
       "1  measurement_image_1_plant_2         1036,375            387,387\n",
       "2  measurement_image_1_plant_3          875,321             39,284\n",
       "3  measurement_image_1_plant_4          973,233            323,404\n",
       "4  measurement_image_1_plant_5          874,931             43,527\n",
       "5  measurement_image_2_plant_1          988,676            1008,09\n",
       "6  measurement_image_2_plant_2         1103,688             137,48\n",
       "7  measurement_image_2_plant_3          969,534            793,005\n",
       "8  measurement_image_2_plant_4           946,25             86,569\n",
       "9  measurement_image_2_plant_5          1004,09            431,145"
      ]
     },
     "execution_count": 9,
     "metadata": {},
     "output_type": "execute_result"
    }
   ],
   "source": [
    "measurements_df"
   ]
  },
  {
   "cell_type": "code",
   "execution_count": 10,
   "metadata": {},
   "outputs": [],
   "source": [
    "# Make values in the same way as in results\n",
    "measurements_df['primary_root_len']  = measurements_df['primary_root_len'] .str.replace(',', '.')\n",
    "measurements_df['primary_root_len'] = pd.to_numeric(measurements_df['primary_root_len'])\n",
    "measurements_df['total_lateral_root']  = measurements_df['total_lateral_root'] .str.replace(',', '.')\n",
    "measurements_df['total_lateral_root'] = pd.to_numeric(measurements_df['total_lateral_root'])"
   ]
  },
  {
   "cell_type": "code",
   "execution_count": 11,
   "metadata": {},
   "outputs": [],
   "source": [
    "def calculate_smape(labels_df, preds_df, target_column):\n",
    "    # Merge the two DataFrames on a common index or key\n",
    "    merged_df = pd.merge(labels_df, preds_df, how='inner', left_index=True, right_index=True)\n",
    "    # Extract actual and forecast values\n",
    "    labels = merged_df[target_column + '_x']\n",
    "    preds = merged_df[target_column + '_y']\n",
    "    # Calculate sMAPE\n",
    "    smape=100 * np.mean(np.abs(preds-labels)/((np.abs(preds) + np.abs(labels))/2))\n",
    "\n",
    "    return smape"
   ]
  },
  {
   "cell_type": "markdown",
   "metadata": {},
   "source": [
    "## Performance"
   ]
  },
  {
   "cell_type": "code",
   "execution_count": 12,
   "metadata": {},
   "outputs": [
    {
     "name": "stdout",
     "output_type": "stream",
     "text": [
      "sMAPE Primary root lenght: 4.95%\n"
     ]
    }
   ],
   "source": [
    "# Calculate sMAPE for Primary root lenght\n",
    "smape_primary_root = calculate_smape(measurements_df, results_df, target_column='primary_root_len')\n",
    "\n",
    "print(f\"sMAPE Primary root lenght: {round(smape_primary_root,2)}%\")"
   ]
  },
  {
   "cell_type": "code",
   "execution_count": 13,
   "metadata": {},
   "outputs": [
    {
     "name": "stdout",
     "output_type": "stream",
     "text": [
      "sMAPE Total lateral root lenght: 8.7%\n"
     ]
    }
   ],
   "source": [
    "# Calculate sMAPE for Total lateral root lenght\n",
    "smape_total_lateral = calculate_smape(measurements_df, results_df, target_column='total_lateral_root')\n",
    "\n",
    "print(f\"sMAPE Total lateral root lenght: {round(smape_total_lateral,2)}%\")"
   ]
  }
 ],
 "metadata": {
  "kernelspec": {
   "display_name": "base",
   "language": "python",
   "name": "python3"
  },
  "language_info": {
   "codemirror_mode": {
    "name": "ipython",
    "version": 3
   },
   "file_extension": ".py",
   "mimetype": "text/x-python",
   "name": "python",
   "nbconvert_exporter": "python",
   "pygments_lexer": "ipython3",
   "version": "3.9.13"
  }
 },
 "nbformat": 4,
 "nbformat_minor": 2
}
