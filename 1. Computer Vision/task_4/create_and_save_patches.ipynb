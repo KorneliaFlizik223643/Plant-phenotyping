{
 "cells": [
  {
   "cell_type": "code",
   "execution_count": 1,
   "metadata": {},
   "outputs": [],
   "source": [
    "import glob\n",
    "import os\n",
    "from patchify import patchify\n",
    "import cv2"
   ]
  },
  {
   "cell_type": "code",
   "execution_count": 2,
   "metadata": {},
   "outputs": [],
   "source": [
    "def removing(folder1, folder2):\n",
    "    png_files=[file.replace('.png','')for file in os.listdir(folder1) if file.endswith('.png')]\n",
    "\n",
    "    tif_files = [file.replace('_seed_mask.tif', '').replace('_root_mask.tif', '').replace('_occluded_root_mask.tif', '').replace('_shoot_mask.tif', '')\n",
    "                 for file in os.listdir(folder2) if file.endswith(('_seed_mask.tif','_root_mask.tif','_occluded_root_mask.tif','_shoot_mask.tif'))]\n",
    "    files_to_remove=set(png_files)- set(tif_files)\n",
    "    for file in files_to_remove:\n",
    "        file_path= os.path.join(folder1, file+'.png')\n",
    "        os.remove(file_path)\n",
    "removing('Dataset/test', 'Dataset/masks')\n",
    "removing('Dataset/train', 'Dataset/masks')"
   ]
  },
  {
   "cell_type": "code",
   "execution_count": 3,
   "metadata": {},
   "outputs": [],
   "source": [
    "def crop_image(image):\n",
    "    grayscale = cv2.cvtColor(image, cv2.COLOR_BGR2GRAY)\n",
    "    _, thresholded = cv2.threshold(grayscale, 0, 255, cv2.THRESH_BINARY +cv2.THRESH_OTSU)\n",
    "    contours, _ = cv2.findContours(thresholded, cv2.RETR_EXTERNAL, cv2.CHAIN_APPROX_SIMPLE)\n",
    "    largest_contour = max(contours, key=cv2.contourArea)\n",
    "    x, y, w, h = cv2.boundingRect(largest_contour)\n",
    "    coordinates=[x,y,w,h]\n",
    "    cropped_image = image[y:y + h, x:x + h]\n",
    "    \n",
    "    return cropped_image, coordinates"
   ]
  },
  {
   "cell_type": "code",
   "execution_count": 4,
   "metadata": {},
   "outputs": [],
   "source": [
    "def padder(image, patch_size):\n",
    "    h = image.shape[0]\n",
    "    w = image.shape[1]\n",
    "    height_padding = ((h // patch_size) + 1) * patch_size - h\n",
    "    width_padding = ((w // patch_size) + 1) * patch_size - w\n",
    "    top_padding = int(height_padding / 2)\n",
    "    bottom_padding = height_padding - top_padding\n",
    "\n",
    "    left_padding = int(width_padding / 2)\n",
    "    right_padding = width_padding - left_padding\n",
    "\n",
    "    padded_image = cv2.copyMakeBorder(image, top_padding, bottom_padding, left_padding, right_padding, cv2.BORDER_CONSTANT, value=[0, 0, 0])\n",
    "\n",
    "    return padded_image"
   ]
  },
  {
   "cell_type": "code",
   "execution_count": 5,
   "metadata": {},
   "outputs": [],
   "source": [
    "def create_and_save_patches(dataset_type, patch_size,mask_type, mask_name):\n",
    "     # Get all image names in train_images\n",
    "\n",
    "    for image_path in sorted(glob.glob(f'Dataset/{dataset_type}/*.png')):\n",
    "        mask_path = image_path.replace(dataset_type, 'masks')\n",
    "        mask_path = mask_path.replace('.png', mask_type)\n",
    "\n",
    "        image=cv2.imread(image_path)\n",
    "        mask = cv2.imread(mask_path, 0)\n",
    "        image, coordinates =crop_image(image)\n",
    "        mask = mask[coordinates[1]:coordinates[1] + coordinates[3], coordinates[0]:coordinates[0] + coordinates[3]]\n",
    "\n",
    "        image=padder(image,patch_size)\n",
    "        mask=padder(mask,patch_size)\n",
    "        patches_img=patchify(image,(patch_size,patch_size,3), step=patch_size)\n",
    "        patches_img=patches_img.reshape(-1,patch_size,patch_size,3)\n",
    "            \n",
    "        patches_ms=patchify(mask,(patch_size,patch_size), step=patch_size)\n",
    "        patches_ms=patches_ms.reshape(-1,patch_size,patch_size,1)\n",
    "        \n",
    "        image_patch_path = image_path.replace(f'Dataset/{dataset_type}', f'Dataset_patched/{dataset_type}_images/{dataset_type}')\n",
    "        for i, patch in enumerate(patches_img):\n",
    "            image_patch_path_numbered = f'{image_patch_path[:-4]}_{i}.png'\n",
    "            cv2.imwrite(image_patch_path_numbered, patch)\n",
    "\n",
    "        mask_patch_path = mask_path.replace('Dataset/masks', f'Dataset_patched/{dataset_type}_masks/{mask_name}')\n",
    "        for i, patch in enumerate(patches_ms):\n",
    "            mask_patch_path_numbered = f'{mask_patch_path[:-4]}_{i}.tif'\n",
    "            cv2.imwrite(mask_patch_path_numbered, patch)\n",
    "            "
   ]
  },
  {
   "cell_type": "code",
   "execution_count": 6,
   "metadata": {},
   "outputs": [],
   "source": [
    "create_and_save_patches(dataset_type='train', patch_size=256, mask_type='_root_mask.tif',mask_name='root')"
   ]
  },
  {
   "cell_type": "code",
   "execution_count": 10,
   "metadata": {},
   "outputs": [],
   "source": [
    "create_and_save_patches(dataset_type='train', patch_size=256, mask_type='_occluded_root_mask.tif',mask_name='occluded_root')"
   ]
  },
  {
   "cell_type": "code",
   "execution_count": 8,
   "metadata": {},
   "outputs": [],
   "source": [
    "create_and_save_patches(dataset_type='train', patch_size=256, mask_type='_seed_mask.tif',mask_name='seed')"
   ]
  },
  {
   "cell_type": "code",
   "execution_count": 9,
   "metadata": {},
   "outputs": [],
   "source": [
    "create_and_save_patches(dataset_type='train', patch_size=256, mask_type='_shoot_mask.tif',mask_name='shoot')"
   ]
  },
  {
   "cell_type": "code",
   "execution_count": 7,
   "metadata": {},
   "outputs": [],
   "source": [
    "create_and_save_patches(dataset_type='test', patch_size=256, mask_type='_root_mask.tif',mask_name='root')"
   ]
  },
  {
   "cell_type": "code",
   "execution_count": 6,
   "metadata": {},
   "outputs": [],
   "source": [
    "create_and_save_patches(dataset_type='test', patch_size=256, mask_type='_occluded_root_mask.tif',mask_name='occluded_root')"
   ]
  },
  {
   "cell_type": "code",
   "execution_count": 7,
   "metadata": {},
   "outputs": [],
   "source": [
    "create_and_save_patches(dataset_type='test', patch_size=256, mask_type='_seed_mask.tif',mask_name='seed')"
   ]
  },
  {
   "cell_type": "code",
   "execution_count": 13,
   "metadata": {},
   "outputs": [],
   "source": [
    "create_and_save_patches(dataset_type='test', patch_size=256, mask_type='_shoot_mask.tif',mask_name='shoot')"
   ]
  }
 ],
 "metadata": {
  "kernelspec": {
   "display_name": "base",
   "language": "python",
   "name": "python3"
  },
  "language_info": {
   "codemirror_mode": {
    "name": "ipython",
    "version": 3
   },
   "file_extension": ".py",
   "mimetype": "text/x-python",
   "name": "python",
   "nbconvert_exporter": "python",
   "pygments_lexer": "ipython3",
   "version": "3.9.13"
  }
 },
 "nbformat": 4,
 "nbformat_minor": 2
}
