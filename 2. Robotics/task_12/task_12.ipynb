{
 "cells": [
  {
   "cell_type": "code",
   "execution_count": 1,
   "metadata": {},
   "outputs": [],
   "source": [
    "from stable_baselines3 import PPO\n",
    "from ot2_gym_wrapper import OT2Env\n",
    "import gymnasium as gym\n",
    "from stable_baselines3.common.evaluation import evaluate_policy\n"
   ]
  },
  {
   "cell_type": "code",
   "execution_count": 2,
   "metadata": {},
   "outputs": [],
   "source": [
    "env = OT2Env()"
   ]
  },
  {
   "cell_type": "code",
   "execution_count": 3,
   "metadata": {},
   "outputs": [],
   "source": [
    "state = env.reset()"
   ]
  },
  {
   "cell_type": "code",
   "execution_count": 4,
   "metadata": {},
   "outputs": [],
   "source": [
    "from simple_pid import PID\n",
    "x_pid = PID(11.0, 0.0, 3)\n",
    "y_pid = PID(16.5, 0.0, 3)\n",
    "z_pid = PID(16.5, 0.0, 3)\n"
   ]
  },
  {
   "cell_type": "code",
   "execution_count": 5,
   "metadata": {},
   "outputs": [],
   "source": [
    "# Choosing any coordinates\n",
    "x_pid.setpoint = -0.02\n",
    "y_pid.setpoint = -0.01\n",
    "z_pid.setpoint = 0.16"
   ]
  },
  {
   "cell_type": "code",
   "execution_count": 6,
   "metadata": {},
   "outputs": [],
   "source": [
    "while True:\n",
    "    # Get the current pipette position from the environment\n",
    "    # Get the current pipette position from the environment\n",
    "    # Get the current pipette position from the environment\n",
    "    robot_id = env.sim.robotIds[0]\n",
    "    current_position = env.sim.get_pipette_position(robotId=robot_id)\n",
    "\n",
    "    # Set the setpoints for the PID controllers\n",
    "    \n",
    "\n",
    "    # Compute control actions using PID controllers\n",
    "    velocity_x = x_pid(current_position[0])\n",
    "    velocity_y = y_pid(current_position[1])\n",
    "    velocity_z = z_pid(current_position[2])\n",
    "\n",
    "    # Formulate the action vector (velocity for x, y, z, and 0 for drop action)\n",
    "    action = [velocity_x, velocity_y, velocity_z, 0]\n",
    "\n",
    "    # Perform a step in the environment using the computed action\n",
    "    observation, reward, terminated, truncated, info = env.step(action)\n",
    "\n",
    "   \n",
    "    # Check if the episode is terminated or truncated\n",
    "    if terminated or truncated:\n",
    "        # Handle episode termination or truncation as needed\n",
    "       break\n"
   ]
  }
 ],
 "metadata": {
  "kernelspec": {
   "display_name": "base",
   "language": "python",
   "name": "python3"
  },
  "language_info": {
   "codemirror_mode": {
    "name": "ipython",
    "version": 3
   },
   "file_extension": ".py",
   "mimetype": "text/x-python",
   "name": "python",
   "nbconvert_exporter": "python",
   "pygments_lexer": "ipython3",
   "version": "3.9.13"
  }
 },
 "nbformat": 4,
 "nbformat_minor": 2
}
