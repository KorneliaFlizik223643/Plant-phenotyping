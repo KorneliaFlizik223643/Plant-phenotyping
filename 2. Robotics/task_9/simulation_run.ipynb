{
 "cells": [
  {
   "cell_type": "code",
   "execution_count": 1,
   "metadata": {},
   "outputs": [],
   "source": [
    "from sim_class import Simulation\n",
    "import random\n",
    "# Initialize the simulation with a specified number of agents\n",
    "sim = Simulation(num_agents=1)  # For one robot"
   ]
  },
  {
   "cell_type": "code",
   "execution_count": 2,
   "metadata": {},
   "outputs": [
    {
     "data": {
      "text/plain": [
       "{'robotId_1': {'joint_states': {'joint_0': {'position': -0.04167765489868952,\n",
       "    'velocity': -0.10011276261163,\n",
       "    'reaction_forces': (0.0, 0.0, 0.0, 0.0, 0.0, 0.0),\n",
       "    'motor_torque': -0.0955912218625543},\n",
       "   'joint_1': {'position': -0.04167056325910739,\n",
       "    'velocity': -0.10007778258949036,\n",
       "    'reaction_forces': (0.0, 0.0, 0.0, 0.0, 0.0, 0.0),\n",
       "    'motor_torque': -0.08874760578747888},\n",
       "   'joint_2': {'position': -9.08340199355947e-06,\n",
       "    'velocity': -0.00012069052061428244,\n",
       "    'reaction_forces': (0.0, 0.0, 0.0, 0.0, 0.0, 0.0),\n",
       "    'motor_torque': -800.0}},\n",
       "  'robot_position': [0.04167779581768573,\n",
       "   0.04167068544975262,\n",
       "   0.029990709534703022],\n",
       "  'pipette_position': [0.1147, 0.1312, 0.1195]}}"
      ]
     },
     "execution_count": 2,
     "metadata": {},
     "output_type": "execute_result"
    }
   ],
   "source": [
    "# Example action: Move joints with specific velocities\n",
    "velocity_x = 0.1\n",
    "velocity_y = 0.1\n",
    "velocity_z = -25\n",
    "drop_command = 1\n",
    "actions = [[velocity_x, velocity_y, velocity_z, drop_command]]\n",
    "\n",
    "# Run the simulation for a specified number of steps\n",
    "sim.run(actions, num_steps=100)"
   ]
  },
  {
   "cell_type": "code",
   "execution_count": 3,
   "metadata": {},
   "outputs": [],
   "source": [
    "# Run the simulation for a specified number of steps\n",
    "for i in range(100):\n",
    "     # Example action: Move joints with specific velocities\n",
    "    velocity_x = random.uniform(-0.5, 0.5)\n",
    "    velocity_y = random.uniform(-0.5, 0.5)\n",
    "    velocity_z = random.uniform(-0.5, 0.5)\n",
    "    drop_command = random.randint(0, 1)\n",
    "\n",
    "    actions = [[velocity_x, velocity_y, velocity_z, drop_command],\n",
    "             [velocity_x, velocity_y, velocity_z, drop_command]]\n",
    "\n",
    "    sim.run(actions)"
   ]
  },
  {
   "cell_type": "code",
   "execution_count": 4,
   "metadata": {},
   "outputs": [
    {
     "name": "stdout",
     "output_type": "stream",
     "text": [
      "{'robotId_1': {'joint_states': {'joint_0': {'position': -0.032847311645028306, 'velocity': 0.25327152748447557, 'reaction_forces': (0.0, 0.0, 0.0, 0.0, 0.0, 0.0), 'motor_torque': 0.24915457611342945}, 'joint_1': {'position': -0.030616514113400474, 'velocity': -0.12175764162244519, 'reaction_forces': (0.0, 0.0, 0.0, 0.0, 0.0, 0.0), 'motor_torque': -500.00000000000006}, 'joint_2': {'position': 0.0665280077077756, 'velocity': 0.19843158372709205, 'reaction_forces': (0.0, 0.0, 0.0, 0.0, 0.0, 0.0), 'motor_torque': 122.76675895434605}}, 'robot_position': [0.03284731159184932, 0.030616514284772408, 0.09652800716471158], 'pipette_position': [0.1058, 0.1201, 0.186]}}\n"
     ]
    }
   ],
   "source": [
    "state = sim.run(actions)\n",
    "print(state)"
   ]
  },
  {
   "cell_type": "code",
   "execution_count": 5,
   "metadata": {},
   "outputs": [
    {
     "data": {
      "text/plain": [
       "{'robotId_2': {'joint_states': {'joint_0': {'position': 0.0,\n",
       "    'velocity': 0.0,\n",
       "    'reaction_forces': (0.0, 0.0, 0.0, 0.0, 0.0, 0.0),\n",
       "    'motor_torque': 0.0},\n",
       "   'joint_1': {'position': 0.0,\n",
       "    'velocity': 0.0,\n",
       "    'reaction_forces': (0.0, 0.0, 0.0, 0.0, 0.0, 0.0),\n",
       "    'motor_torque': 0.0},\n",
       "   'joint_2': {'position': 0.0,\n",
       "    'velocity': 0.0,\n",
       "    'reaction_forces': (0.0, 0.0, 0.0, 0.0, 0.0, 0.0),\n",
       "    'motor_torque': 0.0}},\n",
       "  'robot_position': [0.0, 0.0, 0.03],\n",
       "  'pipette_position': [0.073, 0.0895, 0.1195]}}"
      ]
     },
     "execution_count": 5,
     "metadata": {},
     "output_type": "execute_result"
    }
   ],
   "source": [
    "sim.reset(num_agents=1) "
   ]
  }
 ],
 "metadata": {
  "kernelspec": {
   "display_name": "base",
   "language": "python",
   "name": "python3"
  },
  "language_info": {
   "codemirror_mode": {
    "name": "ipython",
    "version": 3
   },
   "file_extension": ".py",
   "mimetype": "text/x-python",
   "name": "python",
   "nbconvert_exporter": "python",
   "pygments_lexer": "ipython3",
   "version": "3.9.13"
  }
 },
 "nbformat": 4,
 "nbformat_minor": 2
}
